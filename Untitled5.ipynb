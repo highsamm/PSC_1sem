{
 "cells": [
  {
   "cell_type": "code",
   "execution_count": 1,
   "id": "7a63d2d7-5e94-4c35-ab5c-a110c4caba17",
   "metadata": {},
   "outputs": [],
   "source": [
    "#01 Try to extract data from index 1 to index 300 with a jump of 3\n"
   ]
  },
  {
   "cell_type": "code",
   "execution_count": 2,
   "id": "9516aee5-7959-4e60-904a-2ae9fa4722be",
   "metadata": {},
   "outputs": [],
   "source": [
    "s = \"this is My First Python programming class and i am learNING python string and its function\"\n"
   ]
  },
  {
   "cell_type": "code",
   "execution_count": 3,
   "id": "ee2c4032-6abf-4659-9c2d-8db522381fa5",
   "metadata": {},
   "outputs": [
    {
     "data": {
      "text/plain": [
       "'h   r tnrrmglsnimeNGyosi dtfco'"
      ]
     },
     "execution_count": 3,
     "metadata": {},
     "output_type": "execute_result"
    }
   ],
   "source": [
    "s[1:300:3]"
   ]
  },
  {
   "cell_type": "code",
   "execution_count": 4,
   "id": "2843983e-0547-4ce8-b72c-e5ad43792edd",
   "metadata": {},
   "outputs": [],
   "source": [
    "# 02 Try to reverse a string without using reverse function\n"
   ]
  },
  {
   "cell_type": "code",
   "execution_count": 5,
   "id": "f906411d-141c-429a-b4c1-893be538e7ae",
   "metadata": {},
   "outputs": [
    {
     "data": {
      "text/plain": [
       "'noitcnuf sti dna gnirts nohtyp GNINrael ma i dna ssalc gnimmargorp nohtyP tsriF yM si siht'"
      ]
     },
     "execution_count": 5,
     "metadata": {},
     "output_type": "execute_result"
    }
   ],
   "source": [
    "s[::-1]\n"
   ]
  },
  {
   "cell_type": "code",
   "execution_count": 6,
   "id": "46a7f9f8-a306-421d-acaa-2c1466c56a9e",
   "metadata": {},
   "outputs": [],
   "source": [
    "# 03 Try to split a string after conversion of entire string in uppercase"
   ]
  },
  {
   "cell_type": "code",
   "execution_count": 7,
   "id": "0745e404-83e3-4e22-add8-19d34e112b19",
   "metadata": {},
   "outputs": [
    {
     "data": {
      "text/plain": [
       "['THIS',\n",
       " 'IS',\n",
       " 'MY',\n",
       " 'FIRST',\n",
       " 'PYTHON',\n",
       " 'PROGRAMMING',\n",
       " 'CLASS',\n",
       " 'AND',\n",
       " 'I',\n",
       " 'AM',\n",
       " 'LEARNING',\n",
       " 'PYTHON',\n",
       " 'STRING',\n",
       " 'AND',\n",
       " 'ITS',\n",
       " 'FUNCTION']"
      ]
     },
     "execution_count": 7,
     "metadata": {},
     "output_type": "execute_result"
    }
   ],
   "source": [
    "s1 = s.upper()\n",
    "s1.split()"
   ]
  },
  {
   "cell_type": "code",
   "execution_count": 8,
   "id": "e71cb3ae-8ce2-4636-84a5-8f9c0ad45bbd",
   "metadata": {},
   "outputs": [],
   "source": [
    "#04 Try to convert the whole string into lower case"
   ]
  },
  {
   "cell_type": "code",
   "execution_count": 9,
   "id": "6c810bcd-dcfc-4197-bfa6-4bf7c02ee122",
   "metadata": {},
   "outputs": [
    {
     "data": {
      "text/plain": [
       "'this is my first python programming class and i am learning python string and its function'"
      ]
     },
     "execution_count": 9,
     "metadata": {},
     "output_type": "execute_result"
    }
   ],
   "source": [
    "s.lower()"
   ]
  },
  {
   "cell_type": "code",
   "execution_count": 10,
   "id": "9a8746db-a958-4d65-b8cf-1ba8233cfc2b",
   "metadata": {},
   "outputs": [],
   "source": [
    "# 05 the Try to capitalize the whole string"
   ]
  },
  {
   "cell_type": "code",
   "execution_count": 11,
   "id": "88b9ee0a-3710-4035-8796-ef86127b7e82",
   "metadata": {},
   "outputs": [
    {
     "data": {
      "text/plain": [
       "'This is my first python programming class and i am learning python string and its function'"
      ]
     },
     "execution_count": 11,
     "metadata": {},
     "output_type": "execute_result"
    }
   ],
   "source": [
    "s.capitalize()"
   ]
  },
  {
   "cell_type": "code",
   "execution_count": 12,
   "id": "209e490a-c12b-4a80-bc07-ee019670e7f3",
   "metadata": {},
   "outputs": [],
   "source": [
    "# 06 Write the difference between isalnum() and isalpha()"
   ]
  },
  {
   "cell_type": "code",
   "execution_count": 13,
   "id": "d4c57213-d007-4e4c-89b3-39f69c7da7d1",
   "metadata": {},
   "outputs": [],
   "source": [
    "#isalnum() - This function checks that if all the charecters in the string are alphanumeric if yes it prints True else it prints False.\n",
    "# Note - Spaces in between alphanumeric charecters cause the output of the code to be False.\n",
    "\n",
    "# isalpha() - This function cheks that if all the charecters in the string are alphabets if yes it prints True else it prints False.\n",
    "# Note - Spaces in between alphabet charecters cause the output of the code to be False.\n"
   ]
  },
  {
   "cell_type": "code",
   "execution_count": 14,
   "id": "73bbe4bc-25e6-4b7e-89d3-3e088a0254a8",
   "metadata": {},
   "outputs": [],
   "source": [
    "# 07 Try to give an example of expand tab"
   ]
  },
  {
   "cell_type": "code",
   "execution_count": 16,
   "id": "d0859d37-9ec5-4a78-bcd6-91f76a801744",
   "metadata": {},
   "outputs": [
    {
     "data": {
      "text/plain": [
       "'Hii     there   my      name    is      highsamm,       nice    to      meet    you     samartha!!'"
      ]
     },
     "execution_count": 16,
     "metadata": {},
     "output_type": "execute_result"
    }
   ],
   "source": [
    "#Example of expand tab function\n",
    "\n",
    "s2 = \"Hii\\tthere\\tmy\\tname\\tis\\thighsamm,\\tnice\\tto\\tmeet\\tyou\\tsamartha!!\"\n",
    "\n",
    "s2.expandtabs()  # By default it is 8 spaces per tab."
   ]
  },
  {
   "cell_type": "code",
   "execution_count": 17,
   "id": "b3ea1824-5c2f-4795-b423-acd086ecb0bb",
   "metadata": {},
   "outputs": [
    {
     "data": {
      "text/plain": [
       "'Hii                 there               my                  name                is                  highsamm,           nice                to                  meet                you                 samartha!!'"
      ]
     },
     "execution_count": 17,
     "metadata": {},
     "output_type": "execute_result"
    }
   ],
   "source": [
    "# But we can change it to our preference, for example -\n",
    "\n",
    "s2.expandtabs(20)\n"
   ]
  },
  {
   "cell_type": "code",
   "execution_count": 18,
   "id": "8e78d576-7e5f-4af3-be73-df060b85c230",
   "metadata": {},
   "outputs": [],
   "source": [
    "#08 Give an example of strip, lstrip and rstrip."
   ]
  },
  {
   "cell_type": "code",
   "execution_count": 19,
   "id": "4406b2c4-1a49-4c3c-a298-b54640f5d1f9",
   "metadata": {},
   "outputs": [
    {
     "data": {
      "text/plain": [
       "'Heyy!! Samartha'"
      ]
     },
     "execution_count": 19,
     "metadata": {},
     "output_type": "execute_result"
    }
   ],
   "source": [
    "# 1 - Example of strip:\n",
    "\n",
    "a = \"@@@2@Heyy!! Samartha@2@@@\"\n",
    "\n",
    "a.strip(\"@2\")  # Removes all @2 from both the sides\n",
    "\n"
   ]
  },
  {
   "cell_type": "code",
   "execution_count": 21,
   "id": "e9e5316c-3fe7-44c6-8a8a-bb69843af635",
   "metadata": {},
   "outputs": [
    {
     "data": {
      "text/plain": [
       "'Heyy!! Samartha@2@@@'"
      ]
     },
     "execution_count": 21,
     "metadata": {},
     "output_type": "execute_result"
    }
   ],
   "source": [
    "#2 - Example of lstrip:\n",
    "\n",
    "a1 = \"@@@22@Heyy!! Samartha@2@@@\"\n",
    "\n",
    "a1.lstrip(\"@2\")  # Removes all @2 only from the left side\n"
   ]
  },
  {
   "cell_type": "code",
   "execution_count": 22,
   "id": "6b523a82-bd31-49af-bb60-38bef178ac26",
   "metadata": {},
   "outputs": [
    {
     "data": {
      "text/plain": [
       "'@@@2@Heyy!! Samartha'"
      ]
     },
     "execution_count": 22,
     "metadata": {},
     "output_type": "execute_result"
    }
   ],
   "source": [
    "# 3 - Example of rstrip\n",
    "\n",
    "a2 = \"@@@2@Heyy!! Samartha@222@@@\"\n",
    "\n",
    "a2.rstrip(\"@2\")  # Removes all @2 only from the right side\n"
   ]
  },
  {
   "cell_type": "code",
   "execution_count": 23,
   "id": "d30d2d34-e707-44cf-b72f-47413cf214b7",
   "metadata": {},
   "outputs": [],
   "source": [
    "# 09 Replace a string charecter by another charecter by taking your own example \"your name\""
   ]
  },
  {
   "cell_type": "code",
   "execution_count": 24,
   "id": "0b19241c-0a7f-47bd-973d-6a2ff02da9b3",
   "metadata": {},
   "outputs": [
    {
     "data": {
      "text/plain": [
       "'Samartha'"
      ]
     },
     "execution_count": 24,
     "metadata": {},
     "output_type": "execute_result"
    }
   ],
   "source": [
    "name = \"highsamm\"\n",
    "\n",
    "name.replace(\"highsamm\", \"Samartha\")\n",
    "\n"
   ]
  },
  {
   "cell_type": "code",
   "execution_count": 25,
   "id": "a24fe9a0-ca1d-4187-a5e3-bb76d60d42ed",
   "metadata": {},
   "outputs": [
    {
     "data": {
      "text/plain": [
       "'Samhsamm'"
      ]
     },
     "execution_count": 25,
     "metadata": {},
     "output_type": "execute_result"
    }
   ],
   "source": [
    "name.replace(\"hig\",\"Sam\")\n"
   ]
  },
  {
   "cell_type": "code",
   "execution_count": 28,
   "id": "6c61768f-8daa-4cd8-a1bd-44bfc704acf6",
   "metadata": {},
   "outputs": [],
   "source": [
    "# 10 Try to give a definition of string center function with an example."
   ]
  },
  {
   "cell_type": "code",
   "execution_count": 29,
   "id": "071f0c69-06e7-4a48-a646-10287ebaefd9",
   "metadata": {},
   "outputs": [],
   "source": [
    "# Definition:\n",
    "\n",
    "# center() function is used to align the string in to the centre by adding Specified characters in both the sides of the string or with space by default,\n",
    "# then the string will have specified width  and if the total width is greater than the length of the string, the extra characters will be added equally \n",
    "# to both sides (or with one extra on either sides if the width is an odd number or string has odd number of charecters)."
   ]
  },
  {
   "cell_type": "code",
   "execution_count": 30,
   "id": "67d63a13-a53a-4e51-af07-0fbaf9bd8265",
   "metadata": {},
   "outputs": [
    {
     "data": {
      "text/plain": [
       "'*************************************************************highsamm*************************************************************'"
      ]
     },
     "execution_count": 30,
     "metadata": {},
     "output_type": "execute_result"
    }
   ],
   "source": [
    "# Example:\n",
    "\n",
    "b = \"highsamm\"\n",
    "\n",
    "b.center(130,\"*\")\n"
   ]
  },
  {
   "cell_type": "code",
   "execution_count": 31,
   "id": "a923fd49-40cb-40d5-ae98-2fa3249c9f24",
   "metadata": {},
   "outputs": [
    {
     "data": {
      "text/plain": [
       "'********************************************************highsamm********************************************************'"
      ]
     },
     "execution_count": 31,
     "metadata": {},
     "output_type": "execute_result"
    }
   ],
   "source": [
    "b.center(120,\"*\")"
   ]
  },
  {
   "cell_type": "code",
   "execution_count": 32,
   "id": "7e1d4b1f-c0f2-4ea4-8b7b-8b166f2a9c18",
   "metadata": {},
   "outputs": [],
   "source": [
    "# 11 Write the definiton of compiler and interpretor in your own words."
   ]
  },
  {
   "cell_type": "code",
   "execution_count": 33,
   "id": "51f56958-d622-43bf-ad03-84bea68fff02",
   "metadata": {},
   "outputs": [],
   "source": [
    "# Compiler - The code which we have written in the program gets converted into binary code(01) by the compiler because the computer knows only binary \n",
    "           # language. So basicaly compiler converts our code into binary code so that the code gets exicuted by the computer."
   ]
  },
  {
   "cell_type": "code",
   "execution_count": 34,
   "id": "eab88e4e-20be-44e0-aaef-257142a4a165",
   "metadata": {},
   "outputs": [],
   "source": [
    "# Interpretor - It reads our code line by line and executs it immediately in a sequence manner and interpriting the code at the run time."
   ]
  },
  {
   "cell_type": "code",
   "execution_count": 35,
   "id": "c0013c45-eb3b-4068-bc24-be57b4df0179",
   "metadata": {},
   "outputs": [],
   "source": [
    "# 12 Python is an interpreted of compiled language give clear ans."
   ]
  },
  {
   "cell_type": "code",
   "execution_count": 36,
   "id": "4d112ff6-488c-4e6a-a2d6-4a4d26266ffc",
   "metadata": {},
   "outputs": [],
   "source": [
    "#  Python code is executed by an interpreter like CPython which reads and executes the code line by line at runtime. This is why Python \n",
    "#  is considered an interpreted language."
   ]
  },
  {
   "cell_type": "code",
   "execution_count": 37,
   "id": "ab245f50-b514-4a46-ab9b-2093e8d50360",
   "metadata": {},
   "outputs": [],
   "source": [
    "#13 Try to write a usecase of python with your understanding."
   ]
  },
  {
   "cell_type": "code",
   "execution_count": null,
   "id": "ad70ef61-eff9-429b-82de-64cdd060b59a",
   "metadata": {},
   "outputs": [],
   "source": [
    "# There are many usecases of python such as:\n",
    "\n",
    "# 1. Pyhton is used in Cybersecurity.   \n",
    "# 2. Python is used in Web development.   ( Django, Flask for building websites.)\n",
    "# 3. Python is used in Data analysis and mashin learning.   (Pandas, TensorFlow for data analysis and AI.)\n",
    "# 4. Python is used in Artifitial intelligence (Generative AI).\n",
    "# 5. Python is used in Internet Of Things (IOT).\n",
    "# 6. Python is used in Cloud computing.   ( Automating cloud services)\n",
    "# 7. Python is used in Game development.   (Pygame for game prototyping.)\n",
    "# 8. Python is used in Blockchain development.\n"
   ]
  }
 ],
 "metadata": {
  "kernelspec": {
   "display_name": "Python 3 (ipykernel)",
   "language": "python",
   "name": "python3"
  },
  "language_info": {
   "codemirror_mode": {
    "name": "ipython",
    "version": 3
   },
   "file_extension": ".py",
   "mimetype": "text/x-python",
   "name": "python",
   "nbconvert_exporter": "python",
   "pygments_lexer": "ipython3",
   "version": "3.12.4"
  }
 },
 "nbformat": 4,
 "nbformat_minor": 5
}
